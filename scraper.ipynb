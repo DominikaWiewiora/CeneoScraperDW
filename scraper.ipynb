{
 "cells": [
  {
   "attachments": {},
   "cell_type": "markdown",
   "metadata": {},
   "source": [
    "# Ceneo Scraper"
   ]
  },
  {
   "attachments": {},
   "cell_type": "markdown",
   "metadata": {},
   "source": [
    "## Loading libraries"
   ]
  },
  {
   "cell_type": "code",
   "execution_count": null,
   "metadata": {},
   "outputs": [],
   "source": [
    "import requests\n",
    "from bs4 import BeautifulSoup"
   ]
  },
  {
   "attachments": {},
   "cell_type": "markdown",
   "metadata": {},
   "source": [
    "## Sending request to Ceneo.pl server"
   ]
  },
  {
   "cell_type": "code",
   "execution_count": null,
   "metadata": {},
   "outputs": [],
   "source": [
    "product_id= \"119663219\"\n",
    "url =f\"https://www.ceneo.pl/{product_id}#tab=reviews\"\n",
    "response = requests.get(url)\n",
    "print(type(response.text))"
   ]
  },
  {
   "cell_type": "code",
   "execution_count": null,
   "metadata": {},
   "outputs": [],
   "source": [
    "page_dom = BeautifulSoup(response.text, \"html.parser\")\n",
    "opinions = page_dom.select(\"div.js_product-review\")\n",
    "opinion = page_dom.select_one(\"div.js_product-review\")\n",
    "print(type(page_dom))\n",
    "print(type(opinions))\n",
    "print(type(opinion))\n",
    "print(opinion)"
   ]
  },
  {
   "attachments": {},
   "cell_type": "markdown",
   "metadata": {},
   "source": [
    "## Extraction of components of single opinion\n",
    "|Component|Selector|Variable|\n",
    "|---------|--------|--------|\n",
    "|opinion ID|[\"data-entry-id\"]|opinion_id|\n",
    "|opinion’s author|span.user-post__author-name|author|\n",
    "|author’s recommendation|span.user-post__author-recomendation > em|recommendation|\n",
    "|score expressed in number of stars|span.user-post__score-count|score|\n",
    "|opinion’s content|div.user-post__text|content|\n",
    "|list of product advantages|div.review-feature__title--positives ~ div.review-feature__item|pros|\n",
    "|list of product disadvantages|div.review-feature__title--negatives ~ div.review-feature__item |cons|\n",
    "|how many users think that opinion was helpful|span[id^=\"votes-yes\"]|helpful|\n",
    "|how many users think that opinion was unhelpful|span[id^=\"votes-no\"]|unhelpful|\n",
    "|publishing date|span.user-post__published > time:nth-child(1)[\"datetime\"]|publish_date|\n",
    "|purchase date|span.user-post__published > time:nth-child(2)[\"datetime\"]|purchase_date|"
   ]
  },
  {
   "attachments": {},
   "cell_type": "markdown",
   "metadata": {},
   "source": []
  },
  {
   "cell_type": "code",
   "execution_count": null,
   "metadata": {},
   "outputs": [],
   "source": [
    "opinion_id = opinion[\"data-entry-id\"]\n",
    "author = opinion.select_one(\"span.user-post__author-name\")\n",
    "recommendation = opinion.select_one(\"span.user-post__author-recomendation > em\")\n",
    "score = opinion.select_one(\"span.user-post__score-count\")\n",
    "content = opinion.select_one(\"div.user-post__text\")\n",
    "pros = opinion.select(\"div.review-feature__title--positives ~ div.review-feature__item\")\n",
    "cons = opinion.select(\"div.review-feature__title--negatives ~ div.review-feature__item\")\n",
    "helpful = opinion.select_one('span[id^=\"votes-yes\"]')\n",
    "unhelpful = opinion.select_one('span[id^=\"votes-no\"]')\n",
    "publish_date = opinion.select_one('span.user-post__published > time:nth-child(1)').get('datetime')\n",
    "purchase_date = opinion.select_one('span.user-post__published > time:nth-child(2)').get('datetime')\n",
    "\n",
    "\n",
    "\n",
    "\n",
    "\n",
    "\n",
    "\n"
   ]
  },
  {
   "cell_type": "code",
   "execution_count": null,
   "metadata": {},
   "outputs": [],
   "source": []
  }
 ],
 "metadata": {
  "kernelspec": {
   "display_name": ".venv",
   "language": "python",
   "name": "python3"
  },
  "language_info": {
   "codemirror_mode": {
    "name": "ipython",
    "version": 3
   },
   "file_extension": ".py",
   "mimetype": "text/x-python",
   "name": "python",
   "nbconvert_exporter": "python",
   "pygments_lexer": "ipython3",
   "version": "3.12.0"
  },
  "orig_nbformat": 4
 },
 "nbformat": 4,
 "nbformat_minor": 2
}
